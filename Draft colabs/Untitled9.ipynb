{
  "nbformat": 4,
  "nbformat_minor": 0,
  "metadata": {
    "colab": {
      "provenance": []
    },
    "kernelspec": {
      "name": "python3",
      "display_name": "Python 3"
    },
    "language_info": {
      "name": "python"
    }
  },
  "cells": [
    {
      "cell_type": "markdown",
      "source": [
        "Project Name -\n",
        "Project Type - Classification\n",
        "Contribution - Team\n",
        "Team Member 1 - Yash Kumar\n",
        "Team Member 2 - Taniya Yadav\n",
        "Team Member 3 - Vivek Mishra\n",
        "Project Summary -\n",
        "The airline industry plays a crucial role in modern transportation, with numerous airlines serving various routes worldwide. To make informed decisions in this highly competitive industry, airlines and stakeholders rely on data-driven insights. Machine learning models are indispensable tools in this regard, allowing for the classification of airlines based on different criteria. This document outlines the development and implementation of an airline classification machine learning model.\n",
        "\n",
        "This is where machine learning can play a vital role. By using historical customer data, a machine learning model can identify patterns and correlations that indicate a high likelihood of referral. This information can then be used by airlines to target specific customers with personalized marketing campaigns or incentives, increasing the chances of referral and promoting growth.\n",
        "\n",
        "In conclusion, a machine learning model that predicts the likelihood of referral can provide valuable insights for airlines looking to enhance their customer satisfaction and drive growth through word-of-mouth referrals."
      ],
      "metadata": {
        "id": "JAM5buommfxw"
      }
    },
    {
      "cell_type": "code",
      "source": [
        "from IPython.display import Image\n",
        "Image(url='https://media.giphy.com/media/cMKiyssfSf1laPo1wK/giphy.gif?cid=790b7611ca6xqf9orc8azbl9swmby2h6t0wdek0znt6g8lje&ep=v1_gifs_search&rid=giphy.gif&ct=g', width=1400,height=500)"
      ],
      "metadata": {
        "colab": {
          "base_uri": "https://localhost:8080/",
          "height": 522
        },
        "id": "TXk9AmZMmhv2",
        "outputId": "bfa67796-d7d6-42b6-ff16-6305639f8450"
      },
      "execution_count": 1,
      "outputs": [
        {
          "output_type": "execute_result",
          "data": {
            "text/html": [
              "<img src=\"https://media.giphy.com/media/cMKiyssfSf1laPo1wK/giphy.gif?cid=790b7611ca6xqf9orc8azbl9swmby2h6t0wdek0znt6g8lje&ep=v1_gifs_search&rid=giphy.gif&ct=g\" width=\"1400\" height=\"500\"/>"
            ],
            "text/plain": [
              "<IPython.core.display.Image object>"
            ]
          },
          "metadata": {},
          "execution_count": 1
        }
      ]
    },
    {
      "cell_type": "code",
      "source": [],
      "metadata": {
        "id": "xucv4GdXmk00"
      },
      "execution_count": null,
      "outputs": []
    }
  ]
}